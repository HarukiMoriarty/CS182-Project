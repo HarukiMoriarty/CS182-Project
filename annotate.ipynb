{
 "cells": [
  {
   "cell_type": "code",
   "execution_count": 36,
   "metadata": {},
   "outputs": [],
   "source": [
    "import os\n",
    "import matplotlib.pyplot as plt\n",
    "from PIL import Image\n",
    "import numpy as np\n",
    "import tqdm\n",
    "import torch\n",
    "from sklearn.discriminant_analysis import LinearDiscriminantAnalysis as LDA\n",
    "#%matplotlib inline"
   ]
  },
  {
   "cell_type": "code",
   "execution_count": 37,
   "metadata": {},
   "outputs": [],
   "source": [
    "with open(\"res.txt\",\"r\") as f:\n",
    "    annos = f.readlines()\n",
    "annos = [np.array([float(x) for x in anno.split()]) for anno in annos]\n",
    "annos = np.stack(annos)"
   ]
  },
  {
   "cell_type": "code",
   "execution_count": 38,
   "metadata": {},
   "outputs": [],
   "source": [
    "pattern = \"generate_with_latent/seed{}.npy\"\n",
    "xs = []\n",
    "for idx in range(1,len(annos)+1):\n",
    "    x = np.load(pattern.format(str(idx).zfill(4)))\n",
    "    xs.append(x[:,4])\n",
    "xs = np.concatenate(xs).reshape(len(annos),-1)\n"
   ]
  },
  {
   "cell_type": "code",
   "execution_count": 39,
   "metadata": {},
   "outputs": [],
   "source": [
    "clf = LDA()\n",
    "clf.fit(xs[:800], annos[:800,1].astype(int))\n",
    "pattern_vector = clf.coef_[:,:512]\n",
    "pattern_vector /= np.linalg.norm(pattern_vector,ord=2)\n",
    "torch.tensor(pattern_vector)\n",
    "torch.save(torch.tensor(pattern_vector),\"pattern_strength.pt\")"
   ]
  },
  {
   "cell_type": "code",
   "execution_count": 40,
   "metadata": {},
   "outputs": [
    {
     "name": "stdout",
     "output_type": "stream",
     "text": [
      "234\n",
      "16\n",
      "159\n",
      "52\n",
      "83\n",
      "49\n",
      "38\n",
      "12\n",
      "33\n",
      "6\n",
      "318\n",
      "512\n",
      "0.3340591807026586\n",
      "0.25094382304405316\n"
     ]
    }
   ],
   "source": [
    "sleeve_vector = np.load(\"eigen.npy\")\n",
    "print(np.real(sleeve_vector).__pow__(2).sum())\n",
    "print(np.imag(sleeve_vector).__pow__(2).sum())\n",
    "sleeve_vector = np.real(sleeve_vector[:512]).reshape(1,512)\n",
    "sleeve_vector /= np.linalg.norm(sleeve_vector,ord=2)\n",
    "#torch.save(torch.tensor(sleeve_vector), \"sleeve_length.pt\")"
   ]
  },
  {
   "cell_type": "code",
   "execution_count": 41,
   "metadata": {},
   "outputs": [
    {
     "name": "stdout",
     "output_type": "stream",
     "text": [
      "[[ 1.         -0.39112808]\n",
      " [-0.39112808  1.        ]]\n",
      "[[1.         0.57878992]\n",
      " [0.57878992 1.        ]]\n",
      "1.4478500713218505\n",
      "1.4572130305821922\n",
      "1.3677601\n"
     ]
    }
   ],
   "source": [
    "\n",
    "preds = []\n",
    "for x in xs:\n",
    "    preds.append(sleeve_vector[0]@x[:512])\n",
    "preds = np.array(preds)\n",
    "print(np.corrcoef(preds, annos[:,0]))\n",
    "ref = -torch.load(\"upper_length.pt\",map_location=torch.device('cpu')).numpy()\n",
    "ref = ref.reshape(1,512)/np.linalg.norm(ref,ord=2)\n",
    "preds = []\n",
    "for x in xs:\n",
    "    preds.append(ref[0]@x[:512])\n",
    "preds = np.array(preds)\n",
    "print(np.corrcoef(preds, annos[:,0]))\n",
    "print(np.linalg.norm(sleeve_vector-ref,ord=2))\n",
    "print(np.linalg.norm(sleeve_vector-pattern_vector,ord=2))\n",
    "print(np.linalg.norm(ref-pattern_vector,ord=2))"
   ]
  }
 ],
 "metadata": {
  "kernelspec": {
   "display_name": "Python 3.9.13 ('eg3d')",
   "language": "python",
   "name": "python3"
  },
  "language_info": {
   "codemirror_mode": {
    "name": "ipython",
    "version": 3
   },
   "file_extension": ".py",
   "mimetype": "text/x-python",
   "name": "python",
   "nbconvert_exporter": "python",
   "pygments_lexer": "ipython3",
   "version": "3.9.13 | packaged by conda-forge | (main, May 27 2022, 16:50:36) [MSC v.1929 64 bit (AMD64)]"
  },
  "orig_nbformat": 4,
  "vscode": {
   "interpreter": {
    "hash": "dd7ae64a2a5d5eb8b07baaef300cfe8a11ef1c17248de9a5992f1db2a8cb07df"
   }
  }
 },
 "nbformat": 4,
 "nbformat_minor": 2
}
